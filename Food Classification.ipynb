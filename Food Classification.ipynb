{
 "cells": [
  {
   "cell_type": "code",
   "execution_count": 1,
   "metadata": {},
   "outputs": [],
   "source": [
    "# The Datasets are not classied, they are separeted in two dirrent files. \n",
    "# we will merge them and make a labeled data directory\n",
    "\n",
    "from __future__ import print_function\n",
    "import pandas as pd\n",
    "import shutil\n",
    "import os\n",
    "import sys\n",
    "\n",
    "labels = pd.read_csv(r'D:\\Datasets\\Food dataset\\train.csv')\n",
    "\n",
    "train_dir =r'D:\\Datasets\\Food dataset\\train_images\\train_images'\n",
    "_ = r\"D:\\Datasets\\Food dataset\\food with label\\_\"\n",
    "if not os.path.exists(_):\n",
    "    os.mkdir(_)\n",
    "\n",
    "for filename, class_name in labels.values:\n",
    "    \n",
    "    if not os.path.exists(_ + str(class_name)):\n",
    "        os.mkdir(_ + str(class_name))\n",
    "    src_path = train_dir + '/'+ filename \n",
    "    dst_path = _ + str(class_name) + '/' + filename \n",
    "    try:\n",
    "        shutil.copy(src_path, dst_path)\n",
    "        \n",
    "    except IOError as e:\n",
    "        print('Unable to copy file {} to {}'.format(src_path, dst_path))\n",
    "    except:\n",
    "        print('When try copy file {} to {}, unexpected error: {}'\n",
    "              .format(src_path, dst_path, sys.exc_info()))\n",
    "print(\"sucessful\")"
   ]
  },
  {
   "cell_type": "code",
   "execution_count": 2,
   "metadata": {},
   "outputs": [],
   "source": [
    "# importing essential files\n",
    "import tensorflow as tf\n",
    "from tensorflow import keras\n",
    "from keras .layers import Dense, Conv2D, MaxPool2D, BatchNormalization\n",
    "from keras.preprocessing.image import ImageDataGenerator"
   ]
  },
  {
   "cell_type": "code",
   "execution_count": 3,
   "metadata": {},
   "outputs": [
    {
     "name": "stdout",
     "output_type": "stream",
     "text": [
      "Found 9323 images belonging to 61 classes.\n"
     ]
    }
   ],
   "source": [
    "train_dir = (r'D:\\Datasets\\Food dataset\\food with label')\n",
    "train_image_generator = ImageDataGenerator(\n",
    "    height_shift_range = 0.3,\n",
    "    rescale = 1./255,\n",
    "    rotation_range = 32,\n",
    "    horizontal_flip = True, \n",
    "    fill_mode = 'nearest'\n",
    ")\n",
    "x_train = train_image_generator.flow_from_directory(\n",
    "        train_dir,\n",
    "        target_size=(128,128),\n",
    "        class_mode='categorical',\n",
    "        shuffle=True)\n"
   ]
  },
  {
   "cell_type": "code",
   "execution_count": 76,
   "metadata": {},
   "outputs": [
    {
     "data": {
      "text/plain": [
       "61"
      ]
     },
     "execution_count": 76,
     "metadata": {},
     "output_type": "execute_result"
    }
   ],
   "source": [
    "# creating the list of class names. \n",
    "import pandas as pd\n",
    "classes = []\n",
    "labels = pd.read_csv(r'D:\\Datasets\\Food dataset\\train.csv')\n",
    "for filename, class_name in labels.values:\n",
    "    if class_name not in classes:\n",
    "        classes.append(class_name)\n",
    "\n",
    "len(classes)"
   ]
  },
  {
   "cell_type": "code",
   "execution_count": 4,
   "metadata": {},
   "outputs": [],
   "source": [
    "# manually making a Sequential model using convolutiona d MaxPooling layers\n",
    "model = keras.Sequential([\n",
    "    keras.layers.Conv2D(32,(3,3), padding ='same', input_shape=(128,128,3),\n",
    "                        activation=('relu')),\n",
    "    keras.layers.Conv2D(32,(3,3), activation ='relu'),\n",
    "    keras.layers.MaxPool2D(2,2),\n",
    "    keras.layers.Dropout(0.2),\n",
    "    keras.layers.Conv2D(64,(3,3), activation =('relu')),\n",
    "    keras.layers.MaxPool2D(2,2),\n",
    "    keras.layers.Dropout(0.25),\n",
    "    keras.layers.Conv2D(64,(3,3), activation =('relu')),\n",
    "    keras.layers.MaxPool2D(2,2),\n",
    "    keras.layers.Dropout(0.2),\n",
    "    keras.layers.Flatten(),\n",
    "    keras.layers.Dense(512, activation='relu'),\n",
    "    keras.layers.Dropout(0.2),\n",
    "    keras.layers.Dense(256, activation='relu'),\n",
    "    keras.layers.Dropout(0.2),\n",
    "    keras.layers.Dense(128, activation='relu'),\n",
    "    keras.layers.Dropout(0.3),\n",
    "    keras.layers.Dense(61, activation='softmax'),    \n",
    "    ])\n",
    "model.compile(loss = 'categorical_crossentropy',\n",
    "              optimizer = 'Adam',\n",
    "              metrics = ['accuracy'])\n",
    "\n",
    "              "
   ]
  },
  {
   "cell_type": "code",
   "execution_count": 5,
   "metadata": {},
   "outputs": [],
   "source": [
    "# LEts Enable GPU computation \n",
    "\n",
    "gpus = tf.config.experimental.list_physical_devices('GPU')\n",
    "if gpus:\n",
    "    try:\n",
    "        tf.config.experimental.set_visible_devices(gpus[0], 'GPU')\n",
    "        print(\"using GPU\")\n",
    "    except RuntimeError as e:\n",
    "        print(e)"
   ]
  },
  {
   "cell_type": "code",
   "execution_count": 6,
   "metadata": {},
   "outputs": [
    {
     "name": "stdout",
     "output_type": "stream",
     "text": [
      "Epoch 1/3\n",
      "292/292 [==============================] - 202s 690ms/step - loss: 3.8597 - accuracy: 0.0872\n",
      "Epoch 2/3\n",
      "292/292 [==============================] - 227s 779ms/step - loss: 3.8103 - accuracy: 0.0904\n",
      "Epoch 3/3\n",
      "292/292 [==============================] - 225s 769ms/step - loss: 3.6828 - accuracy: 0.1159\n"
     ]
    }
   ],
   "source": [
    "# First Model Not so much effecctive :(\n",
    "with tf.device('/GPU:0'):\n",
    "      history = model.fit( x_train, epochs =3, )"
   ]
  },
  {
   "cell_type": "code",
   "execution_count": 7,
   "metadata": {},
   "outputs": [
    {
     "name": "stdout",
     "output_type": "stream",
     "text": [
      "Model: \"sequential_2\"\n",
      "_________________________________________________________________\n",
      "Layer (type)                 Output Shape              Param #   \n",
      "=================================================================\n",
      "inception_v3 (Functional)    (None, 2, 2, 2048)        21802784  \n",
      "_________________________________________________________________\n",
      "sequential_1 (Sequential)    (None, 61)                499773    \n",
      "=================================================================\n",
      "Total params: 22,302,557\n",
      "Trainable params: 499,773\n",
      "Non-trainable params: 21,802,784\n",
      "_________________________________________________________________\n"
     ]
    }
   ],
   "source": [
    "#   Lets Go for Transfer Learnig. We will use the Inception Model and Imagenet weights !\n",
    "\n",
    "\n",
    "inception_model = tf.keras.applications.inception_v3.InceptionV3(\n",
    "    include_top= False, weights='imagenet',input_shape=(128,128,3))\n",
    "\n",
    "for layer in inception_model.layers:\n",
    "      layer.trainable = False\n",
    "\n",
    "model2 = keras.Sequential([\n",
    "    keras.layers.Flatten(),\n",
    "    keras.layers.Dense(61, activation='softmax')\n",
    "])    \n",
    "\n",
    "inception_model = keras.Sequential([inception_model, model2])\n",
    "inception_model.compile(loss = 'categorical_crossentropy',\n",
    "              optimizer = 'Adam',\n",
    "              metrics = ['accuracy'])\n",
    "\n",
    "inception_model.summary()"
   ]
  },
  {
   "cell_type": "code",
   "execution_count": 8,
   "metadata": {},
   "outputs": [
    {
     "name": "stdout",
     "output_type": "stream",
     "text": [
      "Epoch 1/8\n",
      "292/292 [==============================] - 134s 452ms/step - loss: 7.4417 - accuracy: 0.2674\n",
      "Epoch 2/8\n",
      "292/292 [==============================] - 130s 445ms/step - loss: 6.8534 - accuracy: 0.3274\n",
      "Epoch 3/8\n",
      "292/292 [==============================] - 130s 445ms/step - loss: 7.2109 - accuracy: 0.3505\n",
      "Epoch 4/8\n",
      "292/292 [==============================] - 129s 440ms/step - loss: 7.0110 - accuracy: 0.3603\n",
      "Epoch 5/8\n",
      "292/292 [==============================] - 129s 440ms/step - loss: 6.8162 - accuracy: 0.3797\n",
      "Epoch 6/8\n",
      "292/292 [==============================] - 129s 443ms/step - loss: 6.9227 - accuracy: 0.3897\n",
      "Epoch 7/8\n",
      "292/292 [==============================] - 130s 447ms/step - loss: 6.9105 - accuracy: 0.3934\n",
      "Epoch 8/8\n",
      "292/292 [==============================] - 132s 453ms/step - loss: 6.8074 - accuracy: 0.4049\n"
     ]
    },
    {
     "data": {
      "text/plain": [
       "<keras.callbacks.History at 0x235dd0432b0>"
      ]
     },
     "execution_count": 8,
     "metadata": {},
     "output_type": "execute_result"
    }
   ],
   "source": [
    "inception_model.fit(x_train, epochs = 8 )"
   ]
  },
  {
   "cell_type": "code",
   "execution_count": 9,
   "metadata": {},
   "outputs": [
    {
     "name": "stdout",
     "output_type": "stream",
     "text": [
      "Found 484 images belonging to 1 classes.\n"
     ]
    }
   ],
   "source": [
    "# prepairing the test data\n",
    "test_img_path = r'D:\\Datasets\\Food dataset\\test_images'\n",
    "test_image_generator = ImageDataGenerator(\n",
    "    rescale = 1./255\n",
    ")\n",
    "x_test = test_image_generator.flow_from_directory(\n",
    "        test_img_path,\n",
    "        target_size=(128,128),)\n",
    "        # class_mode='categorical',)\n"
   ]
  },
  {
   "cell_type": "code",
   "execution_count": 16,
   "metadata": {},
   "outputs": [
    {
     "name": "stdout",
     "output_type": "stream",
     "text": [
      "INFO:tensorflow:Assets written to: C:\\Users\\kiit\\Desktop\\assets\n"
     ]
    }
   ],
   "source": [
    "# Save the model for futr\n",
    "inception_model.save(r\"C:\\Users\\kiit\\Desktop\")"
   ]
  },
  {
   "cell_type": "code",
   "execution_count": 17,
   "metadata": {},
   "outputs": [
    {
     "name": "stdout",
     "output_type": "stream",
     "text": [
      "INFO:tensorflow:Assets written to: C:\\Users\\kiit\\Desktop\\assets\n"
     ]
    }
   ],
   "source": [
    "model.save(r\"C:\\Users\\kiit\\Desktop\")"
   ]
  },
  {
   "cell_type": "code",
   "execution_count": 46,
   "metadata": {},
   "outputs": [],
   "source": [
    "# lets make Prediction \n",
    "prediction = inception_model.predict(x_test)"
   ]
  },
  {
   "cell_type": "code",
   "execution_count": 81,
   "metadata": {},
   "outputs": [],
   "source": [
    "import numpy as np\n",
    "class_type = [np.argmax(element) for element in prediction]\n"
   ]
  },
  {
   "cell_type": "code",
   "execution_count": 110,
   "metadata": {},
   "outputs": [
    {
     "data": {
      "text/html": [
       "<div>\n",
       "<style scoped>\n",
       "    .dataframe tbody tr th:only-of-type {\n",
       "        vertical-align: middle;\n",
       "    }\n",
       "\n",
       "    .dataframe tbody tr th {\n",
       "        vertical-align: top;\n",
       "    }\n",
       "\n",
       "    .dataframe thead th {\n",
       "        text-align: right;\n",
       "    }\n",
       "</style>\n",
       "<table border=\"1\" class=\"dataframe\">\n",
       "  <thead>\n",
       "    <tr style=\"text-align: right;\">\n",
       "      <th></th>\n",
       "      <th>0</th>\n",
       "    </tr>\n",
       "  </thead>\n",
       "  <tbody>\n",
       "    <tr>\n",
       "      <th>0</th>\n",
       "      <td>bread-whole-wheat</td>\n",
       "    </tr>\n",
       "    <tr>\n",
       "      <th>1</th>\n",
       "      <td>sauce-savoury</td>\n",
       "    </tr>\n",
       "    <tr>\n",
       "      <th>2</th>\n",
       "      <td>mixed-salad-chopped-without-sauce</td>\n",
       "    </tr>\n",
       "    <tr>\n",
       "      <th>3</th>\n",
       "      <td>mixed-nuts</td>\n",
       "    </tr>\n",
       "    <tr>\n",
       "      <th>4</th>\n",
       "      <td>salad-leaf-salad-green</td>\n",
       "    </tr>\n",
       "    <tr>\n",
       "      <th>...</th>\n",
       "      <td>...</td>\n",
       "    </tr>\n",
       "    <tr>\n",
       "      <th>479</th>\n",
       "      <td>cucumber</td>\n",
       "    </tr>\n",
       "    <tr>\n",
       "      <th>480</th>\n",
       "      <td>mixed-nuts</td>\n",
       "    </tr>\n",
       "    <tr>\n",
       "      <th>481</th>\n",
       "      <td>avocado</td>\n",
       "    </tr>\n",
       "    <tr>\n",
       "      <th>482</th>\n",
       "      <td>mayonnaise</td>\n",
       "    </tr>\n",
       "    <tr>\n",
       "      <th>483</th>\n",
       "      <td>white-coffee-with-caffeine</td>\n",
       "    </tr>\n",
       "  </tbody>\n",
       "</table>\n",
       "<p>484 rows × 1 columns</p>\n",
       "</div>"
      ],
      "text/plain": [
       "                                     0\n",
       "0                    bread-whole-wheat\n",
       "1                        sauce-savoury\n",
       "2    mixed-salad-chopped-without-sauce\n",
       "3                           mixed-nuts\n",
       "4               salad-leaf-salad-green\n",
       "..                                 ...\n",
       "479                           cucumber\n",
       "480                         mixed-nuts\n",
       "481                            avocado\n",
       "482                         mayonnaise\n",
       "483         white-coffee-with-caffeine\n",
       "\n",
       "[484 rows x 1 columns]"
      ]
     },
     "execution_count": 110,
     "metadata": {},
     "output_type": "execute_result"
    }
   ],
   "source": [
    "x = []\n",
    "for i in range(0,484):\n",
    "      y = classes[class_type[i]]\n",
    "      x.append(y)\n",
    "\n",
    "x = pd.DataFrame(x)\n",
    "x"
   ]
  },
  {
   "cell_type": "code",
   "execution_count": 114,
   "metadata": {},
   "outputs": [],
   "source": [
    "# lets merge the wo file and save the result to a csv file \n",
    "\n",
    "test_csv = pd.read_csv(r\"D:\\Datasets\\Food dataset\\test.csv\")\n",
    "result = pd.concat([test_csv, x], axis=1)"
   ]
  },
  {
   "cell_type": "code",
   "execution_count": 126,
   "metadata": {},
   "outputs": [
    {
     "data": {
      "text/html": [
       "<div>\n",
       "<style scoped>\n",
       "    .dataframe tbody tr th:only-of-type {\n",
       "        vertical-align: middle;\n",
       "    }\n",
       "\n",
       "    .dataframe tbody tr th {\n",
       "        vertical-align: top;\n",
       "    }\n",
       "\n",
       "    .dataframe thead th {\n",
       "        text-align: right;\n",
       "    }\n",
       "</style>\n",
       "<table border=\"1\" class=\"dataframe\">\n",
       "  <thead>\n",
       "    <tr style=\"text-align: right;\">\n",
       "      <th></th>\n",
       "      <th>ImageId</th>\n",
       "      <th>0</th>\n",
       "    </tr>\n",
       "  </thead>\n",
       "  <tbody>\n",
       "    <tr>\n",
       "      <th>0</th>\n",
       "      <td>90e63a2fde.jpg</td>\n",
       "      <td>bread-whole-wheat</td>\n",
       "    </tr>\n",
       "    <tr>\n",
       "      <th>1</th>\n",
       "      <td>a554d1ca8d.jpg</td>\n",
       "      <td>sauce-savoury</td>\n",
       "    </tr>\n",
       "    <tr>\n",
       "      <th>2</th>\n",
       "      <td>48317e8ee8.jpg</td>\n",
       "      <td>mixed-salad-chopped-without-sauce</td>\n",
       "    </tr>\n",
       "    <tr>\n",
       "      <th>3</th>\n",
       "      <td>79528df667.jpg</td>\n",
       "      <td>mixed-nuts</td>\n",
       "    </tr>\n",
       "    <tr>\n",
       "      <th>4</th>\n",
       "      <td>6d2f2f63f5.jpg</td>\n",
       "      <td>salad-leaf-salad-green</td>\n",
       "    </tr>\n",
       "    <tr>\n",
       "      <th>...</th>\n",
       "      <td>...</td>\n",
       "      <td>...</td>\n",
       "    </tr>\n",
       "    <tr>\n",
       "      <th>479</th>\n",
       "      <td>843b8695df.jpg</td>\n",
       "      <td>cucumber</td>\n",
       "    </tr>\n",
       "    <tr>\n",
       "      <th>480</th>\n",
       "      <td>584490f483.jpg</td>\n",
       "      <td>mixed-nuts</td>\n",
       "    </tr>\n",
       "    <tr>\n",
       "      <th>481</th>\n",
       "      <td>d5df1ab5ec.jpg</td>\n",
       "      <td>avocado</td>\n",
       "    </tr>\n",
       "    <tr>\n",
       "      <th>482</th>\n",
       "      <td>79e3e01b88.jpg</td>\n",
       "      <td>mayonnaise</td>\n",
       "    </tr>\n",
       "    <tr>\n",
       "      <th>483</th>\n",
       "      <td>a05a4fe910.jpg</td>\n",
       "      <td>white-coffee-with-caffeine</td>\n",
       "    </tr>\n",
       "  </tbody>\n",
       "</table>\n",
       "<p>484 rows × 2 columns</p>\n",
       "</div>"
      ],
      "text/plain": [
       "            ImageId                                  0\n",
       "0    90e63a2fde.jpg                  bread-whole-wheat\n",
       "1    a554d1ca8d.jpg                      sauce-savoury\n",
       "2    48317e8ee8.jpg  mixed-salad-chopped-without-sauce\n",
       "3    79528df667.jpg                         mixed-nuts\n",
       "4    6d2f2f63f5.jpg             salad-leaf-salad-green\n",
       "..              ...                                ...\n",
       "479  843b8695df.jpg                           cucumber\n",
       "480  584490f483.jpg                         mixed-nuts\n",
       "481  d5df1ab5ec.jpg                            avocado\n",
       "482  79e3e01b88.jpg                         mayonnaise\n",
       "483  a05a4fe910.jpg         white-coffee-with-caffeine\n",
       "\n",
       "[484 rows x 2 columns]"
      ]
     },
     "execution_count": 126,
     "metadata": {},
     "output_type": "execute_result"
    }
   ],
   "source": [
    "result"
   ]
  },
  {
   "cell_type": "code",
   "execution_count": null,
   "metadata": {},
   "outputs": [],
   "source": []
  }
 ],
 "metadata": {
  "interpreter": {
   "hash": "1baa965d5efe3ac65b79dfc60c0d706280b1da80fedb7760faf2759126c4f253"
  },
  "kernelspec": {
   "display_name": "Python 3.8.0 64-bit",
   "language": "python",
   "name": "python3"
  },
  "language_info": {
   "codemirror_mode": {
    "name": "ipython",
    "version": 3
   },
   "file_extension": ".py",
   "mimetype": "text/x-python",
   "name": "python",
   "nbconvert_exporter": "python",
   "pygments_lexer": "ipython3",
   "version": "3.8.0"
  },
  "orig_nbformat": 4
 },
 "nbformat": 4,
 "nbformat_minor": 2
}
